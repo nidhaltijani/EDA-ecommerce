{
 "cells": [
  {
   "cell_type": "code",
   "execution_count": 130,
   "id": "173abcc0-b280-4d11-ad6c-944c303b5cf2",
   "metadata": {},
   "outputs": [],
   "source": [
    "import pandas as pd \n",
    "import matplotlib.pyplot as plt"
   ]
  },
  {
   "cell_type": "code",
   "execution_count": 131,
   "id": "59b3355d-f177-4e9f-a1e8-ba03ddaf8bd2",
   "metadata": {},
   "outputs": [],
   "source": [
    "df=pd.read_csv(\"Ecommerce Purchases\")"
   ]
  },
  {
   "cell_type": "code",
   "execution_count": 132,
   "id": "069e005f-33be-493e-bcd4-eb98a7016333",
   "metadata": {},
   "outputs": [
    {
     "data": {
      "text/html": [
       "<div>\n",
       "<style scoped>\n",
       "    .dataframe tbody tr th:only-of-type {\n",
       "        vertical-align: middle;\n",
       "    }\n",
       "\n",
       "    .dataframe tbody tr th {\n",
       "        vertical-align: top;\n",
       "    }\n",
       "\n",
       "    .dataframe thead th {\n",
       "        text-align: right;\n",
       "    }\n",
       "</style>\n",
       "<table border=\"1\" class=\"dataframe\">\n",
       "  <thead>\n",
       "    <tr style=\"text-align: right;\">\n",
       "      <th></th>\n",
       "      <th>Address</th>\n",
       "      <th>Lot</th>\n",
       "      <th>AM or PM</th>\n",
       "      <th>Browser Info</th>\n",
       "      <th>Company</th>\n",
       "      <th>Credit Card</th>\n",
       "      <th>CC Exp Date</th>\n",
       "      <th>CC Security Code</th>\n",
       "      <th>CC Provider</th>\n",
       "      <th>Email</th>\n",
       "      <th>Job</th>\n",
       "      <th>IP Address</th>\n",
       "      <th>Language</th>\n",
       "      <th>Purchase Price</th>\n",
       "    </tr>\n",
       "  </thead>\n",
       "  <tbody>\n",
       "    <tr>\n",
       "      <th>0</th>\n",
       "      <td>16629 Pace Camp Apt. 448\\nAlexisborough, NE 77...</td>\n",
       "      <td>46 in</td>\n",
       "      <td>PM</td>\n",
       "      <td>Opera/9.56.(X11; Linux x86_64; sl-SI) Presto/2...</td>\n",
       "      <td>Martinez-Herman</td>\n",
       "      <td>6011929061123406</td>\n",
       "      <td>02/20</td>\n",
       "      <td>900</td>\n",
       "      <td>JCB 16 digit</td>\n",
       "      <td>pdunlap@yahoo.com</td>\n",
       "      <td>Scientist, product/process development</td>\n",
       "      <td>149.146.147.205</td>\n",
       "      <td>el</td>\n",
       "      <td>98.14</td>\n",
       "    </tr>\n",
       "    <tr>\n",
       "      <th>1</th>\n",
       "      <td>9374 Jasmine Spurs Suite 508\\nSouth John, TN 8...</td>\n",
       "      <td>28 rn</td>\n",
       "      <td>PM</td>\n",
       "      <td>Opera/8.93.(Windows 98; Win 9x 4.90; en-US) Pr...</td>\n",
       "      <td>Fletcher, Richards and Whitaker</td>\n",
       "      <td>3337758169645356</td>\n",
       "      <td>11/18</td>\n",
       "      <td>561</td>\n",
       "      <td>Mastercard</td>\n",
       "      <td>anthony41@reed.com</td>\n",
       "      <td>Drilling engineer</td>\n",
       "      <td>15.160.41.51</td>\n",
       "      <td>fr</td>\n",
       "      <td>70.73</td>\n",
       "    </tr>\n",
       "    <tr>\n",
       "      <th>2</th>\n",
       "      <td>Unit 0065 Box 5052\\nDPO AP 27450</td>\n",
       "      <td>94 vE</td>\n",
       "      <td>PM</td>\n",
       "      <td>Mozilla/5.0 (compatible; MSIE 9.0; Windows NT ...</td>\n",
       "      <td>Simpson, Williams and Pham</td>\n",
       "      <td>675957666125</td>\n",
       "      <td>08/19</td>\n",
       "      <td>699</td>\n",
       "      <td>JCB 16 digit</td>\n",
       "      <td>amymiller@morales-harrison.com</td>\n",
       "      <td>Customer service manager</td>\n",
       "      <td>132.207.160.22</td>\n",
       "      <td>de</td>\n",
       "      <td>0.95</td>\n",
       "    </tr>\n",
       "    <tr>\n",
       "      <th>3</th>\n",
       "      <td>7780 Julia Fords\\nNew Stacy, WA 45798</td>\n",
       "      <td>36 vm</td>\n",
       "      <td>PM</td>\n",
       "      <td>Mozilla/5.0 (Macintosh; Intel Mac OS X 10_8_0 ...</td>\n",
       "      <td>Williams, Marshall and Buchanan</td>\n",
       "      <td>6011578504430710</td>\n",
       "      <td>02/24</td>\n",
       "      <td>384</td>\n",
       "      <td>Discover</td>\n",
       "      <td>brent16@olson-robinson.info</td>\n",
       "      <td>Drilling engineer</td>\n",
       "      <td>30.250.74.19</td>\n",
       "      <td>es</td>\n",
       "      <td>78.04</td>\n",
       "    </tr>\n",
       "    <tr>\n",
       "      <th>4</th>\n",
       "      <td>23012 Munoz Drive Suite 337\\nNew Cynthia, TX 5...</td>\n",
       "      <td>20 IE</td>\n",
       "      <td>AM</td>\n",
       "      <td>Opera/9.58.(X11; Linux x86_64; it-IT) Presto/2...</td>\n",
       "      <td>Brown, Watson and Andrews</td>\n",
       "      <td>6011456623207998</td>\n",
       "      <td>10/25</td>\n",
       "      <td>678</td>\n",
       "      <td>Diners Club / Carte Blanche</td>\n",
       "      <td>christopherwright@gmail.com</td>\n",
       "      <td>Fine artist</td>\n",
       "      <td>24.140.33.94</td>\n",
       "      <td>es</td>\n",
       "      <td>77.82</td>\n",
       "    </tr>\n",
       "    <tr>\n",
       "      <th>5</th>\n",
       "      <td>7502 Powell Mission Apt. 768\\nTravisland, VA 3...</td>\n",
       "      <td>21 XT</td>\n",
       "      <td>PM</td>\n",
       "      <td>Mozilla/5.0 (Macintosh; U; PPC Mac OS X 10_8_5...</td>\n",
       "      <td>Silva-Anderson</td>\n",
       "      <td>30246185196287</td>\n",
       "      <td>07/25</td>\n",
       "      <td>7169</td>\n",
       "      <td>Discover</td>\n",
       "      <td>ynguyen@gmail.com</td>\n",
       "      <td>Fish farm manager</td>\n",
       "      <td>55.96.152.147</td>\n",
       "      <td>ru</td>\n",
       "      <td>25.15</td>\n",
       "    </tr>\n",
       "    <tr>\n",
       "      <th>6</th>\n",
       "      <td>93971 Conway Causeway\\nAndersonburgh, AZ 75107</td>\n",
       "      <td>96 Xt</td>\n",
       "      <td>AM</td>\n",
       "      <td>Mozilla/5.0 (compatible; MSIE 7.0; Windows NT ...</td>\n",
       "      <td>Gibson and Sons</td>\n",
       "      <td>6011398782655569</td>\n",
       "      <td>07/24</td>\n",
       "      <td>714</td>\n",
       "      <td>VISA 16 digit</td>\n",
       "      <td>olivia04@yahoo.com</td>\n",
       "      <td>Dancer</td>\n",
       "      <td>127.252.144.18</td>\n",
       "      <td>de</td>\n",
       "      <td>88.56</td>\n",
       "    </tr>\n",
       "    <tr>\n",
       "      <th>7</th>\n",
       "      <td>260 Rachel Plains Suite 366\\nCastroberg, WV 24...</td>\n",
       "      <td>96 pG</td>\n",
       "      <td>PM</td>\n",
       "      <td>Mozilla/5.0 (X11; Linux i686) AppleWebKit/5350...</td>\n",
       "      <td>Marshall-Collins</td>\n",
       "      <td>561252141909</td>\n",
       "      <td>06/25</td>\n",
       "      <td>256</td>\n",
       "      <td>VISA 13 digit</td>\n",
       "      <td>phillip48@parks.info</td>\n",
       "      <td>Event organiser</td>\n",
       "      <td>224.247.97.150</td>\n",
       "      <td>pt</td>\n",
       "      <td>44.25</td>\n",
       "    </tr>\n",
       "    <tr>\n",
       "      <th>8</th>\n",
       "      <td>2129 Dylan Burg\\nNew Michelle, ME 28650</td>\n",
       "      <td>45 JN</td>\n",
       "      <td>PM</td>\n",
       "      <td>Mozilla/5.0 (Macintosh; U; Intel Mac OS X 10_7...</td>\n",
       "      <td>Galloway and Sons</td>\n",
       "      <td>180041795790001</td>\n",
       "      <td>04/24</td>\n",
       "      <td>899</td>\n",
       "      <td>JCB 16 digit</td>\n",
       "      <td>kdavis@rasmussen.com</td>\n",
       "      <td>Financial manager</td>\n",
       "      <td>146.234.201.229</td>\n",
       "      <td>ru</td>\n",
       "      <td>59.54</td>\n",
       "    </tr>\n",
       "    <tr>\n",
       "      <th>9</th>\n",
       "      <td>3795 Dawson Extensions\\nLake Tinafort, ID 88739</td>\n",
       "      <td>15 Ug</td>\n",
       "      <td>AM</td>\n",
       "      <td>Mozilla/5.0 (X11; Linux i686; rv:1.9.7.20) Gec...</td>\n",
       "      <td>Rivera, Buchanan and Ramirez</td>\n",
       "      <td>4396283918371</td>\n",
       "      <td>01/17</td>\n",
       "      <td>931</td>\n",
       "      <td>American Express</td>\n",
       "      <td>qcoleman@hunt-huerta.com</td>\n",
       "      <td>Forensic scientist</td>\n",
       "      <td>236.198.199.8</td>\n",
       "      <td>zh</td>\n",
       "      <td>95.63</td>\n",
       "    </tr>\n",
       "  </tbody>\n",
       "</table>\n",
       "</div>"
      ],
      "text/plain": [
       "                                             Address    Lot AM or PM  \\\n",
       "0  16629 Pace Camp Apt. 448\\nAlexisborough, NE 77...  46 in       PM   \n",
       "1  9374 Jasmine Spurs Suite 508\\nSouth John, TN 8...  28 rn       PM   \n",
       "2                   Unit 0065 Box 5052\\nDPO AP 27450  94 vE       PM   \n",
       "3              7780 Julia Fords\\nNew Stacy, WA 45798  36 vm       PM   \n",
       "4  23012 Munoz Drive Suite 337\\nNew Cynthia, TX 5...  20 IE       AM   \n",
       "5  7502 Powell Mission Apt. 768\\nTravisland, VA 3...  21 XT       PM   \n",
       "6     93971 Conway Causeway\\nAndersonburgh, AZ 75107  96 Xt       AM   \n",
       "7  260 Rachel Plains Suite 366\\nCastroberg, WV 24...  96 pG       PM   \n",
       "8            2129 Dylan Burg\\nNew Michelle, ME 28650  45 JN       PM   \n",
       "9    3795 Dawson Extensions\\nLake Tinafort, ID 88739  15 Ug       AM   \n",
       "\n",
       "                                        Browser Info  \\\n",
       "0  Opera/9.56.(X11; Linux x86_64; sl-SI) Presto/2...   \n",
       "1  Opera/8.93.(Windows 98; Win 9x 4.90; en-US) Pr...   \n",
       "2  Mozilla/5.0 (compatible; MSIE 9.0; Windows NT ...   \n",
       "3  Mozilla/5.0 (Macintosh; Intel Mac OS X 10_8_0 ...   \n",
       "4  Opera/9.58.(X11; Linux x86_64; it-IT) Presto/2...   \n",
       "5  Mozilla/5.0 (Macintosh; U; PPC Mac OS X 10_8_5...   \n",
       "6  Mozilla/5.0 (compatible; MSIE 7.0; Windows NT ...   \n",
       "7  Mozilla/5.0 (X11; Linux i686) AppleWebKit/5350...   \n",
       "8  Mozilla/5.0 (Macintosh; U; Intel Mac OS X 10_7...   \n",
       "9  Mozilla/5.0 (X11; Linux i686; rv:1.9.7.20) Gec...   \n",
       "\n",
       "                           Company       Credit Card CC Exp Date  \\\n",
       "0                  Martinez-Herman  6011929061123406       02/20   \n",
       "1  Fletcher, Richards and Whitaker  3337758169645356       11/18   \n",
       "2       Simpson, Williams and Pham      675957666125       08/19   \n",
       "3  Williams, Marshall and Buchanan  6011578504430710       02/24   \n",
       "4        Brown, Watson and Andrews  6011456623207998       10/25   \n",
       "5                   Silva-Anderson    30246185196287       07/25   \n",
       "6                  Gibson and Sons  6011398782655569       07/24   \n",
       "7                 Marshall-Collins      561252141909       06/25   \n",
       "8                Galloway and Sons   180041795790001       04/24   \n",
       "9     Rivera, Buchanan and Ramirez     4396283918371       01/17   \n",
       "\n",
       "   CC Security Code                  CC Provider  \\\n",
       "0               900                 JCB 16 digit   \n",
       "1               561                   Mastercard   \n",
       "2               699                 JCB 16 digit   \n",
       "3               384                     Discover   \n",
       "4               678  Diners Club / Carte Blanche   \n",
       "5              7169                     Discover   \n",
       "6               714                VISA 16 digit   \n",
       "7               256                VISA 13 digit   \n",
       "8               899                 JCB 16 digit   \n",
       "9               931             American Express   \n",
       "\n",
       "                            Email                                     Job  \\\n",
       "0               pdunlap@yahoo.com  Scientist, product/process development   \n",
       "1              anthony41@reed.com                       Drilling engineer   \n",
       "2  amymiller@morales-harrison.com                Customer service manager   \n",
       "3     brent16@olson-robinson.info                       Drilling engineer   \n",
       "4     christopherwright@gmail.com                             Fine artist   \n",
       "5               ynguyen@gmail.com                       Fish farm manager   \n",
       "6              olivia04@yahoo.com                                  Dancer   \n",
       "7            phillip48@parks.info                         Event organiser   \n",
       "8            kdavis@rasmussen.com                       Financial manager   \n",
       "9        qcoleman@hunt-huerta.com                      Forensic scientist   \n",
       "\n",
       "        IP Address Language  Purchase Price  \n",
       "0  149.146.147.205       el           98.14  \n",
       "1     15.160.41.51       fr           70.73  \n",
       "2   132.207.160.22       de            0.95  \n",
       "3     30.250.74.19       es           78.04  \n",
       "4     24.140.33.94       es           77.82  \n",
       "5    55.96.152.147       ru           25.15  \n",
       "6   127.252.144.18       de           88.56  \n",
       "7   224.247.97.150       pt           44.25  \n",
       "8  146.234.201.229       ru           59.54  \n",
       "9    236.198.199.8       zh           95.63  "
      ]
     },
     "execution_count": 132,
     "metadata": {},
     "output_type": "execute_result"
    }
   ],
   "source": [
    "df.head(10)"
   ]
  },
  {
   "cell_type": "code",
   "execution_count": 133,
   "id": "0d642ed6-f088-4d6e-88c4-722050512f06",
   "metadata": {},
   "outputs": [
    {
     "data": {
      "text/html": [
       "<div>\n",
       "<style scoped>\n",
       "    .dataframe tbody tr th:only-of-type {\n",
       "        vertical-align: middle;\n",
       "    }\n",
       "\n",
       "    .dataframe tbody tr th {\n",
       "        vertical-align: top;\n",
       "    }\n",
       "\n",
       "    .dataframe thead th {\n",
       "        text-align: right;\n",
       "    }\n",
       "</style>\n",
       "<table border=\"1\" class=\"dataframe\">\n",
       "  <thead>\n",
       "    <tr style=\"text-align: right;\">\n",
       "      <th></th>\n",
       "      <th>Address</th>\n",
       "      <th>Lot</th>\n",
       "      <th>AM or PM</th>\n",
       "      <th>Browser Info</th>\n",
       "      <th>Company</th>\n",
       "      <th>Credit Card</th>\n",
       "      <th>CC Exp Date</th>\n",
       "      <th>CC Security Code</th>\n",
       "      <th>CC Provider</th>\n",
       "      <th>Email</th>\n",
       "      <th>Job</th>\n",
       "      <th>IP Address</th>\n",
       "      <th>Language</th>\n",
       "      <th>Purchase Price</th>\n",
       "    </tr>\n",
       "  </thead>\n",
       "  <tbody>\n",
       "    <tr>\n",
       "      <th>9990</th>\n",
       "      <td>75731 Molly Springs\\nWest Danielle, VT 96934-5102</td>\n",
       "      <td>93 ty</td>\n",
       "      <td>PM</td>\n",
       "      <td>Mozilla/5.0 (Macintosh; Intel Mac OS X 10_7_4;...</td>\n",
       "      <td>Pace, Vazquez and Richards</td>\n",
       "      <td>869968197049750</td>\n",
       "      <td>04/24</td>\n",
       "      <td>877</td>\n",
       "      <td>JCB 15 digit</td>\n",
       "      <td>andersonmichael@sherman.biz</td>\n",
       "      <td>Early years teacher</td>\n",
       "      <td>54.170.3.185</td>\n",
       "      <td>ru</td>\n",
       "      <td>18.35</td>\n",
       "    </tr>\n",
       "    <tr>\n",
       "      <th>9991</th>\n",
       "      <td>PSC 8165, Box 8498\\nAPO AP 60327-0346</td>\n",
       "      <td>50 dA</td>\n",
       "      <td>AM</td>\n",
       "      <td>Mozilla/5.0 (compatible; MSIE 8.0; Windows NT ...</td>\n",
       "      <td>Snyder Inc</td>\n",
       "      <td>4221582137197481</td>\n",
       "      <td>02/24</td>\n",
       "      <td>969</td>\n",
       "      <td>Voyager</td>\n",
       "      <td>kking@wise-liu.com</td>\n",
       "      <td>IT sales professional</td>\n",
       "      <td>254.25.31.156</td>\n",
       "      <td>el</td>\n",
       "      <td>25.93</td>\n",
       "    </tr>\n",
       "    <tr>\n",
       "      <th>9992</th>\n",
       "      <td>885 Allen Mountains Apt. 230\\nWallhaven, LA 16995</td>\n",
       "      <td>40 vH</td>\n",
       "      <td>PM</td>\n",
       "      <td>Mozilla/5.0 (Macintosh; PPC Mac OS X 10_6_5) A...</td>\n",
       "      <td>Wells Ltd</td>\n",
       "      <td>4664825258997302</td>\n",
       "      <td>10/20</td>\n",
       "      <td>431</td>\n",
       "      <td>Discover</td>\n",
       "      <td>bberry@wright.net</td>\n",
       "      <td>Set designer</td>\n",
       "      <td>174.173.51.32</td>\n",
       "      <td>de</td>\n",
       "      <td>67.96</td>\n",
       "    </tr>\n",
       "    <tr>\n",
       "      <th>9993</th>\n",
       "      <td>7555 Larson Locks Suite 229\\nEllisburgh, MA 34...</td>\n",
       "      <td>72 jg</td>\n",
       "      <td>PM</td>\n",
       "      <td>Mozilla/5.0 (Macintosh; U; Intel Mac OS X 10_8...</td>\n",
       "      <td>Colon and Sons</td>\n",
       "      <td>30025560104631</td>\n",
       "      <td>10/25</td>\n",
       "      <td>629</td>\n",
       "      <td>Maestro</td>\n",
       "      <td>chelseawilliams@lopez.biz</td>\n",
       "      <td>Designer, exhibition/display</td>\n",
       "      <td>177.46.82.128</td>\n",
       "      <td>el</td>\n",
       "      <td>65.61</td>\n",
       "    </tr>\n",
       "    <tr>\n",
       "      <th>9994</th>\n",
       "      <td>6276 Rojas Hollow\\nLake Louis, WY 56410-7837</td>\n",
       "      <td>93 Ex</td>\n",
       "      <td>PM</td>\n",
       "      <td>Opera/9.68.(X11; Linux x86_64; sl-SI) Presto/2...</td>\n",
       "      <td>Ritter-Smith</td>\n",
       "      <td>3112186784121077</td>\n",
       "      <td>01/25</td>\n",
       "      <td>1823</td>\n",
       "      <td>Maestro</td>\n",
       "      <td>iroberts@gmail.com</td>\n",
       "      <td>Education officer, museum</td>\n",
       "      <td>242.44.112.18</td>\n",
       "      <td>zh</td>\n",
       "      <td>31.85</td>\n",
       "    </tr>\n",
       "    <tr>\n",
       "      <th>9995</th>\n",
       "      <td>966 Castaneda Locks\\nWest Juliafurt, CO 96415</td>\n",
       "      <td>92 XI</td>\n",
       "      <td>PM</td>\n",
       "      <td>Mozilla/5.0 (Windows NT 5.1) AppleWebKit/5352 ...</td>\n",
       "      <td>Randall-Sloan</td>\n",
       "      <td>342945015358701</td>\n",
       "      <td>03/22</td>\n",
       "      <td>838</td>\n",
       "      <td>JCB 15 digit</td>\n",
       "      <td>iscott@wade-garner.com</td>\n",
       "      <td>Printmaker</td>\n",
       "      <td>29.73.197.114</td>\n",
       "      <td>it</td>\n",
       "      <td>82.21</td>\n",
       "    </tr>\n",
       "    <tr>\n",
       "      <th>9996</th>\n",
       "      <td>832 Curtis Dam Suite 785\\nNorth Edwardburgh, T...</td>\n",
       "      <td>41 JY</td>\n",
       "      <td>AM</td>\n",
       "      <td>Mozilla/5.0 (compatible; MSIE 9.0; Windows NT ...</td>\n",
       "      <td>Hale, Collins and Wilson</td>\n",
       "      <td>210033169205009</td>\n",
       "      <td>07/25</td>\n",
       "      <td>207</td>\n",
       "      <td>JCB 16 digit</td>\n",
       "      <td>mary85@hotmail.com</td>\n",
       "      <td>Energy engineer</td>\n",
       "      <td>121.133.168.51</td>\n",
       "      <td>pt</td>\n",
       "      <td>25.63</td>\n",
       "    </tr>\n",
       "    <tr>\n",
       "      <th>9997</th>\n",
       "      <td>Unit 4434 Box 6343\\nDPO AE 28026-0283</td>\n",
       "      <td>74 Zh</td>\n",
       "      <td>AM</td>\n",
       "      <td>Mozilla/5.0 (Macintosh; U; Intel Mac OS X 10_7...</td>\n",
       "      <td>Anderson Ltd</td>\n",
       "      <td>6011539787356311</td>\n",
       "      <td>05/21</td>\n",
       "      <td>1</td>\n",
       "      <td>VISA 16 digit</td>\n",
       "      <td>tyler16@gmail.com</td>\n",
       "      <td>Veterinary surgeon</td>\n",
       "      <td>156.210.0.254</td>\n",
       "      <td>el</td>\n",
       "      <td>83.98</td>\n",
       "    </tr>\n",
       "    <tr>\n",
       "      <th>9998</th>\n",
       "      <td>0096 English Rest\\nRoystad, IA 12457</td>\n",
       "      <td>74 cL</td>\n",
       "      <td>PM</td>\n",
       "      <td>Mozilla/5.0 (Macintosh; Intel Mac OS X 10_8_8;...</td>\n",
       "      <td>Cook Inc</td>\n",
       "      <td>180003348082930</td>\n",
       "      <td>11/17</td>\n",
       "      <td>987</td>\n",
       "      <td>American Express</td>\n",
       "      <td>elizabethmoore@reid.net</td>\n",
       "      <td>Local government officer</td>\n",
       "      <td>55.78.26.143</td>\n",
       "      <td>es</td>\n",
       "      <td>38.84</td>\n",
       "    </tr>\n",
       "    <tr>\n",
       "      <th>9999</th>\n",
       "      <td>40674 Barrett Stravenue\\nGrimesville, WI 79682</td>\n",
       "      <td>64 Hr</td>\n",
       "      <td>AM</td>\n",
       "      <td>Mozilla/5.0 (X11; Linux i686; rv:1.9.5.20) Gec...</td>\n",
       "      <td>Greene Inc</td>\n",
       "      <td>4139972901927273</td>\n",
       "      <td>02/19</td>\n",
       "      <td>302</td>\n",
       "      <td>JCB 15 digit</td>\n",
       "      <td>rachelford@vaughn.com</td>\n",
       "      <td>Embryologist, clinical</td>\n",
       "      <td>176.119.198.199</td>\n",
       "      <td>el</td>\n",
       "      <td>67.59</td>\n",
       "    </tr>\n",
       "  </tbody>\n",
       "</table>\n",
       "</div>"
      ],
      "text/plain": [
       "                                                Address    Lot AM or PM  \\\n",
       "9990  75731 Molly Springs\\nWest Danielle, VT 96934-5102  93 ty       PM   \n",
       "9991              PSC 8165, Box 8498\\nAPO AP 60327-0346  50 dA       AM   \n",
       "9992  885 Allen Mountains Apt. 230\\nWallhaven, LA 16995  40 vH       PM   \n",
       "9993  7555 Larson Locks Suite 229\\nEllisburgh, MA 34...  72 jg       PM   \n",
       "9994       6276 Rojas Hollow\\nLake Louis, WY 56410-7837  93 Ex       PM   \n",
       "9995      966 Castaneda Locks\\nWest Juliafurt, CO 96415  92 XI       PM   \n",
       "9996  832 Curtis Dam Suite 785\\nNorth Edwardburgh, T...  41 JY       AM   \n",
       "9997              Unit 4434 Box 6343\\nDPO AE 28026-0283  74 Zh       AM   \n",
       "9998               0096 English Rest\\nRoystad, IA 12457  74 cL       PM   \n",
       "9999     40674 Barrett Stravenue\\nGrimesville, WI 79682  64 Hr       AM   \n",
       "\n",
       "                                           Browser Info  \\\n",
       "9990  Mozilla/5.0 (Macintosh; Intel Mac OS X 10_7_4;...   \n",
       "9991  Mozilla/5.0 (compatible; MSIE 8.0; Windows NT ...   \n",
       "9992  Mozilla/5.0 (Macintosh; PPC Mac OS X 10_6_5) A...   \n",
       "9993  Mozilla/5.0 (Macintosh; U; Intel Mac OS X 10_8...   \n",
       "9994  Opera/9.68.(X11; Linux x86_64; sl-SI) Presto/2...   \n",
       "9995  Mozilla/5.0 (Windows NT 5.1) AppleWebKit/5352 ...   \n",
       "9996  Mozilla/5.0 (compatible; MSIE 9.0; Windows NT ...   \n",
       "9997  Mozilla/5.0 (Macintosh; U; Intel Mac OS X 10_7...   \n",
       "9998  Mozilla/5.0 (Macintosh; Intel Mac OS X 10_8_8;...   \n",
       "9999  Mozilla/5.0 (X11; Linux i686; rv:1.9.5.20) Gec...   \n",
       "\n",
       "                         Company       Credit Card CC Exp Date  \\\n",
       "9990  Pace, Vazquez and Richards   869968197049750       04/24   \n",
       "9991                  Snyder Inc  4221582137197481       02/24   \n",
       "9992                   Wells Ltd  4664825258997302       10/20   \n",
       "9993              Colon and Sons    30025560104631       10/25   \n",
       "9994                Ritter-Smith  3112186784121077       01/25   \n",
       "9995               Randall-Sloan   342945015358701       03/22   \n",
       "9996    Hale, Collins and Wilson   210033169205009       07/25   \n",
       "9997                Anderson Ltd  6011539787356311       05/21   \n",
       "9998                    Cook Inc   180003348082930       11/17   \n",
       "9999                  Greene Inc  4139972901927273       02/19   \n",
       "\n",
       "      CC Security Code       CC Provider                        Email  \\\n",
       "9990               877      JCB 15 digit  andersonmichael@sherman.biz   \n",
       "9991               969           Voyager           kking@wise-liu.com   \n",
       "9992               431          Discover            bberry@wright.net   \n",
       "9993               629           Maestro    chelseawilliams@lopez.biz   \n",
       "9994              1823           Maestro           iroberts@gmail.com   \n",
       "9995               838      JCB 15 digit       iscott@wade-garner.com   \n",
       "9996               207      JCB 16 digit           mary85@hotmail.com   \n",
       "9997                 1     VISA 16 digit            tyler16@gmail.com   \n",
       "9998               987  American Express      elizabethmoore@reid.net   \n",
       "9999               302      JCB 15 digit        rachelford@vaughn.com   \n",
       "\n",
       "                               Job       IP Address Language  Purchase Price  \n",
       "9990           Early years teacher     54.170.3.185       ru           18.35  \n",
       "9991         IT sales professional    254.25.31.156       el           25.93  \n",
       "9992                  Set designer    174.173.51.32       de           67.96  \n",
       "9993  Designer, exhibition/display    177.46.82.128       el           65.61  \n",
       "9994     Education officer, museum    242.44.112.18       zh           31.85  \n",
       "9995                    Printmaker    29.73.197.114       it           82.21  \n",
       "9996               Energy engineer   121.133.168.51       pt           25.63  \n",
       "9997            Veterinary surgeon    156.210.0.254       el           83.98  \n",
       "9998      Local government officer     55.78.26.143       es           38.84  \n",
       "9999        Embryologist, clinical  176.119.198.199       el           67.59  "
      ]
     },
     "execution_count": 133,
     "metadata": {},
     "output_type": "execute_result"
    }
   ],
   "source": [
    "df.tail(10)"
   ]
  },
  {
   "cell_type": "code",
   "execution_count": 134,
   "id": "c1991aef-abd8-417a-9ef4-8567a8722c85",
   "metadata": {},
   "outputs": [
    {
     "data": {
      "text/plain": [
       "Address              object\n",
       "Lot                  object\n",
       "AM or PM             object\n",
       "Browser Info         object\n",
       "Company              object\n",
       "Credit Card           int64\n",
       "CC Exp Date          object\n",
       "CC Security Code      int64\n",
       "CC Provider          object\n",
       "Email                object\n",
       "Job                  object\n",
       "IP Address           object\n",
       "Language             object\n",
       "Purchase Price      float64\n",
       "dtype: object"
      ]
     },
     "execution_count": 134,
     "metadata": {},
     "output_type": "execute_result"
    }
   ],
   "source": [
    "df.dtypes"
   ]
  },
  {
   "cell_type": "code",
   "execution_count": 135,
   "id": "3a7ff18c-dd85-4a7d-b613-6cb60c96c2b4",
   "metadata": {},
   "outputs": [
    {
     "data": {
      "text/plain": [
       "Address             0\n",
       "Lot                 0\n",
       "AM or PM            0\n",
       "Browser Info        0\n",
       "Company             0\n",
       "Credit Card         0\n",
       "CC Exp Date         0\n",
       "CC Security Code    0\n",
       "CC Provider         0\n",
       "Email               0\n",
       "Job                 0\n",
       "IP Address          0\n",
       "Language            0\n",
       "Purchase Price      0\n",
       "dtype: int64"
      ]
     },
     "execution_count": 135,
     "metadata": {},
     "output_type": "execute_result"
    }
   ],
   "source": [
    "df.isna().sum()"
   ]
  },
  {
   "cell_type": "code",
   "execution_count": 136,
   "id": "12d2c54b-73d7-4951-8cd7-3f5ba9d8bb22",
   "metadata": {},
   "outputs": [
    {
     "data": {
      "text/html": [
       "<div>\n",
       "<style scoped>\n",
       "    .dataframe tbody tr th:only-of-type {\n",
       "        vertical-align: middle;\n",
       "    }\n",
       "\n",
       "    .dataframe tbody tr th {\n",
       "        vertical-align: top;\n",
       "    }\n",
       "\n",
       "    .dataframe thead th {\n",
       "        text-align: right;\n",
       "    }\n",
       "</style>\n",
       "<table border=\"1\" class=\"dataframe\">\n",
       "  <thead>\n",
       "    <tr style=\"text-align: right;\">\n",
       "      <th></th>\n",
       "      <th>Credit Card</th>\n",
       "      <th>CC Security Code</th>\n",
       "      <th>Purchase Price</th>\n",
       "    </tr>\n",
       "  </thead>\n",
       "  <tbody>\n",
       "    <tr>\n",
       "      <th>count</th>\n",
       "      <td>1.000000e+04</td>\n",
       "      <td>10000.000000</td>\n",
       "      <td>10000.000000</td>\n",
       "    </tr>\n",
       "    <tr>\n",
       "      <th>mean</th>\n",
       "      <td>2.341374e+15</td>\n",
       "      <td>907.217800</td>\n",
       "      <td>50.347302</td>\n",
       "    </tr>\n",
       "    <tr>\n",
       "      <th>std</th>\n",
       "      <td>2.256103e+15</td>\n",
       "      <td>1589.693035</td>\n",
       "      <td>29.015836</td>\n",
       "    </tr>\n",
       "    <tr>\n",
       "      <th>min</th>\n",
       "      <td>6.040186e+10</td>\n",
       "      <td>0.000000</td>\n",
       "      <td>0.000000</td>\n",
       "    </tr>\n",
       "    <tr>\n",
       "      <th>25%</th>\n",
       "      <td>3.056322e+13</td>\n",
       "      <td>280.000000</td>\n",
       "      <td>25.150000</td>\n",
       "    </tr>\n",
       "    <tr>\n",
       "      <th>50%</th>\n",
       "      <td>8.699942e+14</td>\n",
       "      <td>548.000000</td>\n",
       "      <td>50.505000</td>\n",
       "    </tr>\n",
       "    <tr>\n",
       "      <th>75%</th>\n",
       "      <td>4.492298e+15</td>\n",
       "      <td>816.000000</td>\n",
       "      <td>75.770000</td>\n",
       "    </tr>\n",
       "    <tr>\n",
       "      <th>max</th>\n",
       "      <td>6.012000e+15</td>\n",
       "      <td>9993.000000</td>\n",
       "      <td>99.990000</td>\n",
       "    </tr>\n",
       "  </tbody>\n",
       "</table>\n",
       "</div>"
      ],
      "text/plain": [
       "        Credit Card  CC Security Code  Purchase Price\n",
       "count  1.000000e+04      10000.000000    10000.000000\n",
       "mean   2.341374e+15        907.217800       50.347302\n",
       "std    2.256103e+15       1589.693035       29.015836\n",
       "min    6.040186e+10          0.000000        0.000000\n",
       "25%    3.056322e+13        280.000000       25.150000\n",
       "50%    8.699942e+14        548.000000       50.505000\n",
       "75%    4.492298e+15        816.000000       75.770000\n",
       "max    6.012000e+15       9993.000000       99.990000"
      ]
     },
     "execution_count": 136,
     "metadata": {},
     "output_type": "execute_result"
    }
   ],
   "source": [
    "df.describe()"
   ]
  },
  {
   "cell_type": "code",
   "execution_count": 137,
   "id": "78e1efc2-80e8-4437-9a6c-b10f02759a83",
   "metadata": {},
   "outputs": [
    {
     "name": "stdout",
     "output_type": "stream",
     "text": [
      "<class 'pandas.core.frame.DataFrame'>\n",
      "RangeIndex: 10000 entries, 0 to 9999\n",
      "Data columns (total 14 columns):\n",
      " #   Column            Non-Null Count  Dtype  \n",
      "---  ------            --------------  -----  \n",
      " 0   Address           10000 non-null  object \n",
      " 1   Lot               10000 non-null  object \n",
      " 2   AM or PM          10000 non-null  object \n",
      " 3   Browser Info      10000 non-null  object \n",
      " 4   Company           10000 non-null  object \n",
      " 5   Credit Card       10000 non-null  int64  \n",
      " 6   CC Exp Date       10000 non-null  object \n",
      " 7   CC Security Code  10000 non-null  int64  \n",
      " 8   CC Provider       10000 non-null  object \n",
      " 9   Email             10000 non-null  object \n",
      " 10  Job               10000 non-null  object \n",
      " 11  IP Address        10000 non-null  object \n",
      " 12  Language          10000 non-null  object \n",
      " 13  Purchase Price    10000 non-null  float64\n",
      "dtypes: float64(1), int64(2), object(11)\n",
      "memory usage: 1.1+ MB\n"
     ]
    }
   ],
   "source": [
    "df.info()"
   ]
  },
  {
   "cell_type": "code",
   "execution_count": 138,
   "id": "ba9ef990-eeed-42c6-a61d-d6ee06cb9f23",
   "metadata": {},
   "outputs": [
    {
     "data": {
      "text/plain": [
       "(10000, 14)"
      ]
     },
     "execution_count": 138,
     "metadata": {},
     "output_type": "execute_result"
    }
   ],
   "source": [
    "df.shape"
   ]
  },
  {
   "cell_type": "markdown",
   "id": "0b987511-ff5b-4003-9b8f-21b8572f3904",
   "metadata": {},
   "source": [
    "## Highest and lowest values in the purchase price column"
   ]
  },
  {
   "cell_type": "code",
   "execution_count": 139,
   "id": "c5791872-40e7-4bbf-bb66-cac8255beebc",
   "metadata": {},
   "outputs": [
    {
     "data": {
      "text/plain": [
       "99.99"
      ]
     },
     "execution_count": 139,
     "metadata": {},
     "output_type": "execute_result"
    }
   ],
   "source": [
    "df[\"Purchase Price\"].max()"
   ]
  },
  {
   "cell_type": "code",
   "execution_count": 140,
   "id": "3d16354d-84f7-47f3-b42b-f97458d0d6f6",
   "metadata": {},
   "outputs": [
    {
     "data": {
      "text/plain": [
       "0.0"
      ]
     },
     "execution_count": 140,
     "metadata": {},
     "output_type": "execute_result"
    }
   ],
   "source": [
    "df[\"Purchase Price\"].min()"
   ]
  },
  {
   "cell_type": "markdown",
   "id": "b11186e8-c96a-4c6c-bf18-e57736f45bde",
   "metadata": {},
   "source": [
    "## Average Purchase price"
   ]
  },
  {
   "cell_type": "code",
   "execution_count": 141,
   "id": "6935fac4-f7a2-4691-9e4b-5617940555c6",
   "metadata": {},
   "outputs": [
    {
     "data": {
      "text/plain": [
       "50.347302"
      ]
     },
     "execution_count": 141,
     "metadata": {},
     "output_type": "execute_result"
    }
   ],
   "source": [
    "df[\"Purchase Price\"].mean()"
   ]
  },
  {
   "cell_type": "markdown",
   "id": "b0853f6a-5ad4-45e4-b6a9-b61e537921b0",
   "metadata": {},
   "source": [
    "## Number of french people"
   ]
  },
  {
   "cell_type": "code",
   "execution_count": 142,
   "id": "5604a9ae-013b-4e89-87c3-5936b4ed644e",
   "metadata": {},
   "outputs": [
    {
     "data": {
      "text/plain": [
       "fr    1097\n",
       "Name: Language, dtype: int64"
      ]
     },
     "execution_count": 142,
     "metadata": {},
     "output_type": "execute_result"
    }
   ],
   "source": [
    "df[df[\"Language\"]=='fr'][\"Language\"].value_counts()"
   ]
  },
  {
   "cell_type": "markdown",
   "id": "7d43b4f2-14c2-4315-9682-7b1f627d7cba",
   "metadata": {},
   "source": [
    "## Job titles containing \"Engineer\""
   ]
  },
  {
   "cell_type": "code",
   "execution_count": 143,
   "id": "656c8963-cfe1-4986-a2a8-6182357b4d76",
   "metadata": {},
   "outputs": [],
   "source": [
    "jobs=df[df[\"Job\"].str.contains(\"Engineer\")][\"Job\"]"
   ]
  },
  {
   "cell_type": "code",
   "execution_count": 144,
   "id": "fcfe0397-f7ed-44ad-a307-3fa4334ed637",
   "metadata": {},
   "outputs": [
    {
     "data": {
      "text/plain": [
       "453"
      ]
     },
     "execution_count": 144,
     "metadata": {},
     "output_type": "execute_result"
    }
   ],
   "source": [
    "len(jobs)"
   ]
  },
  {
   "cell_type": "code",
   "execution_count": 145,
   "id": "ac565db3-f639-464a-94f1-051f1cd0be78",
   "metadata": {},
   "outputs": [
    {
     "data": {
      "text/plain": [
       "55      Engineer, broadcasting (operations)\n",
       "60                   Engineer, agricultural\n",
       "64             Engineer, civil (consulting)\n",
       "82                      Engineer, materials\n",
       "92                           Engineer, land\n",
       "                       ...                 \n",
       "9868            Engineer, building services\n",
       "9922                   Engineer, electrical\n",
       "9925                    Engineer, materials\n",
       "9945                    Engineer, materials\n",
       "9952                       Engineer, energy\n",
       "Name: Job, Length: 453, dtype: object"
      ]
     },
     "execution_count": 145,
     "metadata": {},
     "output_type": "execute_result"
    }
   ],
   "source": [
    "jobs"
   ]
  },
  {
   "cell_type": "markdown",
   "id": "86ccf51e-004f-4f28-ad1b-2494e8247582",
   "metadata": {},
   "source": [
    "## Finding a customer's email by his IP address"
   ]
  },
  {
   "cell_type": "code",
   "execution_count": 146,
   "id": "e572d5a7-b47b-421b-9805-c752a35e42d7",
   "metadata": {},
   "outputs": [
    {
     "data": {
      "text/plain": [
       "2    amymiller@morales-harrison.com\n",
       "Name: Email, dtype: object"
      ]
     },
     "execution_count": 146,
     "metadata": {},
     "output_type": "execute_result"
    }
   ],
   "source": [
    "#132.207.160.22\n",
    "df[df[\"IP Address\"]==\"132.207.160.22\"][\"Email\"]"
   ]
  },
  {
   "cell_type": "markdown",
   "id": "ef3cde7a-c5be-4387-852e-4d601972e748",
   "metadata": {},
   "source": [
    "## Number of people with mastercard providers and made a purchase above 50"
   ]
  },
  {
   "cell_type": "code",
   "execution_count": 147,
   "id": "982ef4f2-0593-49f4-997e-4da9f639dc35",
   "metadata": {},
   "outputs": [
    {
     "data": {
      "text/plain": [
       "Index(['Address', 'Lot', 'AM or PM', 'Browser Info', 'Company', 'Credit Card',\n",
       "       'CC Exp Date', 'CC Security Code', 'CC Provider', 'Email', 'Job',\n",
       "       'IP Address', 'Language', 'Purchase Price'],\n",
       "      dtype='object')"
      ]
     },
     "execution_count": 147,
     "metadata": {},
     "output_type": "execute_result"
    }
   ],
   "source": [
    "df.columns"
   ]
  },
  {
   "cell_type": "code",
   "execution_count": 148,
   "id": "246661e4-6798-4028-a195-e0299c09b44b",
   "metadata": {},
   "outputs": [],
   "source": [
    "filter1=df[\"CC Provider\"]==\"Mastercard\" \n",
    "filter2=df[\"Purchase Price\"]>50\n",
    "res=df[filter1 & filter2]"
   ]
  },
  {
   "cell_type": "code",
   "execution_count": 149,
   "id": "fa21ac23-bb1b-4775-b240-9c6bd9f9565d",
   "metadata": {},
   "outputs": [
    {
     "data": {
      "text/plain": [
       "405"
      ]
     },
     "execution_count": 149,
     "metadata": {},
     "output_type": "execute_result"
    }
   ],
   "source": [
    "res.head(10)\n",
    "len(res)"
   ]
  },
  {
   "cell_type": "markdown",
   "id": "1a6d3da4-602f-4acd-88b6-1afa7636ea94",
   "metadata": {},
   "source": [
    "## Finding a customer's email by his credit card number"
   ]
  },
  {
   "cell_type": "code",
   "execution_count": 150,
   "id": "ea93e46d-97d5-4c62-bac6-199459a65918",
   "metadata": {},
   "outputs": [
    {
     "data": {
      "text/plain": [
       "9992    bberry@wright.net\n",
       "Name: Email, dtype: object"
      ]
     },
     "execution_count": 150,
     "metadata": {},
     "output_type": "execute_result"
    }
   ],
   "source": [
    "#4664825258997302\n",
    "df[df[\"Credit Card\"]==4664825258997302][\"Email\"]"
   ]
  },
  {
   "cell_type": "markdown",
   "id": "5e53b216-17e1-4b9e-809e-b2bb8a8f86be",
   "metadata": {},
   "source": [
    "## Number of purchases during AM vs number of purchases during PM"
   ]
  },
  {
   "cell_type": "code",
   "execution_count": 151,
   "id": "ce1dee0d-dc15-489e-822d-fafa2e4aaaf6",
   "metadata": {},
   "outputs": [],
   "source": [
    "am=df[df[\"AM or PM\"]==\"AM\"][\"AM or PM\"].count()\n",
    "pm=df[df[\"AM or PM\"]==\"PM\"][\"AM or PM\"].count()"
   ]
  },
  {
   "cell_type": "code",
   "execution_count": 152,
   "id": "067ef5da-23ce-4ff7-bbbc-a3e01e3d7bbd",
   "metadata": {},
   "outputs": [
    {
     "data": {
      "text/plain": [
       "4932"
      ]
     },
     "execution_count": 152,
     "metadata": {},
     "output_type": "execute_result"
    }
   ],
   "source": [
    "am"
   ]
  },
  {
   "cell_type": "code",
   "execution_count": 153,
   "id": "e861e75d-9b83-4a9d-b3c8-50efaf6d02e0",
   "metadata": {},
   "outputs": [
    {
     "data": {
      "text/plain": [
       "5068"
      ]
     },
     "execution_count": 153,
     "metadata": {},
     "output_type": "execute_result"
    }
   ],
   "source": [
    "pm"
   ]
  },
  {
   "cell_type": "code",
   "execution_count": 154,
   "id": "955e2986-9376-443b-89ca-9e62895ff233",
   "metadata": {},
   "outputs": [
    {
     "data": {
      "text/plain": [
       "<BarContainer object of 2 artists>"
      ]
     },
     "execution_count": 154,
     "metadata": {},
     "output_type": "execute_result"
    },
    {
     "data": {
      "image/png": "[encoded data removed]",
      "text/plain": [
       "<Figure size 640x480 with 1 Axes>"
      ]
     },
     "metadata": {},
     "output_type": "display_data"
    }
   ],
   "source": [
    "plt.bar([\"am\",\"pm\"],[am,pm])\n"
   ]
  },
  {
   "cell_type": "markdown",
   "id": "96e8e9ad-9af0-4506-a439-96322df7af3d",
   "metadata": {},
   "source": [
    "## Number of credit cards that expire in 2020"
   ]
  },
  {
   "cell_type": "code",
   "execution_count": 155,
   "id": "326170ac-97f7-4c8e-bf98-b2699e18dd0c",
   "metadata": {},
   "outputs": [
    {
     "data": {
      "text/plain": [
       "988"
      ]
     },
     "execution_count": 155,
     "metadata": {},
     "output_type": "execute_result"
    }
   ],
   "source": [
    "#we can do it with count value counts or simply a sum\n",
    "df[\"CC Exp Date\"].str.contains(\"/20\").sum()\n"
   ]
  },
  {
   "cell_type": "markdown",
   "id": "cd83e54e-ea34-44cd-b2ce-98ae1887e278",
   "metadata": {},
   "source": [
    "## What are the top 5 most popular email providers (e.g. gmail.com, yahoo.com, etc...) \n"
   ]
  },
  {
   "cell_type": "code",
   "execution_count": 166,
   "id": "15178e1a-1f6c-4056-8b61-e3099e4c8918",
   "metadata": {},
   "outputs": [
    {
     "data": {
      "text/plain": [
       "[('hotmail.com', 1638),\n",
       " ('yahoo.com', 1616),\n",
       " ('gmail.com', 1605),\n",
       " ('smith.com', 42),\n",
       " ('williams.com', 37)]"
      ]
     },
     "execution_count": 166,
     "metadata": {},
     "output_type": "execute_result"
    }
   ],
   "source": [
    "res=df[\"Email\"].str.split(\"@\")\n",
    "l=[]\n",
    "for i in res :\n",
    "    l.append(i[1])\n",
    "\n",
    "dict_res={}\n",
    "for item in l :\n",
    "    if item in dict_res:\n",
    "        dict_res[item]+=1\n",
    "    else :\n",
    "        dict_res[item] = 1\n",
    "#print(dict_res)\n",
    "sorted(dict_res.items(),key=lambda x:x[1],reverse=True)[:5]\n"
   ]
  },
  {
   "cell_type": "code",
   "execution_count": null,
   "id": "9561363f-fbb4-4434-b3c2-ba350be373e2",
   "metadata": {},
   "outputs": [],
   "source": []
  }
 ],
 "metadata": {
  "kernelspec": {
   "display_name": "Python 3 (ipykernel)",
   "language": "python",
   "name": "python3"
  },
  "language_info": {
   "codemirror_mode": {
    "name": "ipython",
    "version": 3
   },
   "file_extension": ".py",
   "mimetype": "text/x-python",
   "name": "python",
   "nbconvert_exporter": "python",
   "pygments_lexer": "ipython3",
   "version": "3.9.7"
  }
 },
 "nbformat": 4,
 "nbformat_minor": 5
}
